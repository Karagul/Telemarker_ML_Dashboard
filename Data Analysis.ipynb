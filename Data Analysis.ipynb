{
 "cells": [
  {
   "cell_type": "code",
   "execution_count": 1,
   "metadata": {},
   "outputs": [
    {
     "data": {
      "text/html": [
       "<script>requirejs.config({paths: { 'plotly': ['https://cdn.plot.ly/plotly-latest.min']},});if(!window.Plotly) {{require(['plotly'],function(plotly) {window.Plotly=plotly;});}}</script>"
      ],
      "text/vnd.plotly.v1+html": [
       "<script>requirejs.config({paths: { 'plotly': ['https://cdn.plot.ly/plotly-latest.min']},});if(!window.Plotly) {{require(['plotly'],function(plotly) {window.Plotly=plotly;});}}</script>"
      ]
     },
     "metadata": {},
     "output_type": "display_data"
    }
   ],
   "source": [
    "#########Importing libraries##########\n",
    "import numpy as np\n",
    "import pandas as pd # data processing, CSV file I/O (e.g. pd.read_csv)\n",
    "import os\n",
    "from PIL import  Image\n",
    "import itertools\n",
    "import warnings\n",
    "warnings.filterwarnings(\"ignore\")\n",
    "import io\n",
    "\n",
    "############Visualization#############\n",
    "import matplotlib.pyplot as plt\n",
    "%matplotlib inline\n",
    "import seaborn as sns\n",
    "import plotly.offline as py\n",
    "py.init_notebook_mode(connected=True)\n",
    "import plotly.graph_objs as go\n",
    "import plotly.tools as tls\n",
    "import plotly.figure_factory as ff\n",
    "######################################"
   ]
  },
  {
   "cell_type": "code",
   "execution_count": 51,
   "metadata": {},
   "outputs": [
    {
     "name": "stdout",
     "output_type": "stream",
     "text": [
      "customerID           object\n",
      "gender               object\n",
      "City                 object\n",
      "State                object\n",
      "Phone                object\n",
      "SeniorCitizen         int64\n",
      "Partner              object\n",
      "Dependents           object\n",
      "tenure                int64\n",
      "PhoneService         object\n",
      "MultipleLines        object\n",
      "InternetService      object\n",
      "OnlineSecurity       object\n",
      "OnlineBackup         object\n",
      "DeviceProtection     object\n",
      "TechSupport          object\n",
      "StreamingTV          object\n",
      "StreamingMovies      object\n",
      "Contract             object\n",
      "PaperlessBilling     object\n",
      "PaymentMethod        object\n",
      "MonthlyCharges      float64\n",
      "TotalCharges         object\n",
      "Churn                object\n",
      "Name                 object\n",
      "Address              object\n",
      "dtype: object\n",
      "Percentage of null: 0.1564%\n"
     ]
    },
    {
     "data": {
      "text/plain": [
       "customerID           object\n",
       "gender               object\n",
       "City                 object\n",
       "State                object\n",
       "Phone                object\n",
       "SeniorCitizen          bool\n",
       "Partner                bool\n",
       "Dependents             bool\n",
       "tenure                int64\n",
       "PhoneService           bool\n",
       "MultipleLines          bool\n",
       "InternetService      object\n",
       "OnlineSecurity         bool\n",
       "OnlineBackup           bool\n",
       "DeviceProtection       bool\n",
       "TechSupport            bool\n",
       "StreamingTV            bool\n",
       "StreamingMovies        bool\n",
       "Contract             object\n",
       "PaperlessBilling       bool\n",
       "PaymentMethod        object\n",
       "MonthlyCharges      float64\n",
       "TotalCharges        float64\n",
       "Churn                  bool\n",
       "Name                 object\n",
       "Address              object\n",
       "dtype: object"
      ]
     },
     "execution_count": 51,
     "metadata": {},
     "output_type": "execute_result"
    }
   ],
   "source": [
    "########Bring in the DATA!###########\n",
    "\n",
    "telcom = pd.read_csv(\"db/telemarker_db.csv\")\n",
    "telcom.head()\n",
    "print(telcom.dtypes)\n",
    "#######Data Cleaning Process#########\n",
    "\n",
    "#Replacing spaces with null values in total charges column\n",
    "telcom['TotalCharges'] = telcom[\"TotalCharges\"].replace(\" \",np.nan)\n",
    "print(\"Percentage of null: \" + str(round(telcom['TotalCharges'].isnull().sum()/telcom['TotalCharges'].count()*100,4))+\"%\")\n",
    "\n",
    "#Dropping null values from total charges column which contain .16% missing data\n",
    "telcom = telcom[telcom[\"TotalCharges\"].notnull()]\n",
    "telcom = telcom.reset_index()[telcom.columns]\n",
    "\n",
    "#convert to float type\n",
    "telcom[\"TotalCharges\"] = telcom[\"TotalCharges\"].astype(float)\n",
    "telcom[\"MonthlyCharges\"] = telcom[\"MonthlyCharges\"].astype(float)\n",
    "\n",
    "#replace 'No phone service' to No\n",
    "telcom[\"MultipleLines\"] = telcom[\"MultipleLines\"].replace(\"No phone service\",\"No\")\n",
    "\n",
    "#replace 'No internet service' to No for the following columns\n",
    "replace_cols = [ 'OnlineSecurity', 'OnlineBackup', 'DeviceProtection',\n",
    "                'TechSupport','StreamingTV', 'StreamingMovies']\n",
    "for i in replace_cols : \n",
    "    telcom[i]  = telcom[i].replace({'No internet service' : 'No'})\n",
    "\n",
    "#Change types of columns to boolean\n",
    "YesNoColumns = [\"Partner\",\"Dependents\",\"PhoneService\",\"MultipleLines\",\"OnlineSecurity\",\n",
    "                \"OnlineBackup\",\"DeviceProtection\",\"TechSupport\",\"StreamingTV\",\"StreamingMovies\",\n",
    "                \"PaperlessBilling\",\"Churn\"]\n",
    "for i in YesNoColumns :\n",
    "    telcom[i]  = telcom[i].replace({'Yes':1,'No':0})\n",
    "BoolColumns = YesNoColumns.copy()\n",
    "BoolColumns.append(\"SeniorCitizen\")\n",
    "telcom[BoolColumns] = telcom[BoolColumns].astype('bool')\n",
    "telcom\n",
    "#Separating churn and non churn customers\n",
    "# churn     = telcom[telcom[\"Churn\"] == \"Yes\"]\n",
    "# not_churn = telcom[telcom[\"Churn\"] == \"No\"]\n",
    "\n",
    "#     #Separating catagorical and numerical columns\n",
    "# Id_col     = ['customerID']\n",
    "# target_col = [\"Churn\"]\n",
    "# cat_cols   = telcom.nunique()[telcom.nunique() < 6].keys().tolist()\n",
    "# cat_cols   = [x for x in cat_cols if x not in target_col]\n",
    "# num_cols   = [x for x in telcom.columns if x not in cat_cols + target_col + Id_col]"
   ]
  },
  {
   "cell_type": "code",
   "execution_count": 4,
   "metadata": {},
   "outputs": [
    {
     "data": {
      "application/vnd.plotly.v1+json": {
       "data": [
        {
         "hole": 0.5,
         "hoverinfo": "label+value+text",
         "labels": [
          "No",
          "Yes"
         ],
         "marker": {
          "colors": [
           "royalblue",
           "lime"
          ],
          "line": {
           "color": "white",
           "width": 1.3
          }
         },
         "rotation": 90,
         "type": "pie",
         "uid": "20b60da4-d488-11e8-9ce3-9883892cad24",
         "values": [
          5163,
          1869
         ]
        }
       ],
       "layout": {
        "paper_bgcolor": "rgb(243,243,243)",
        "plot_bgcolor": "rgb(243,243,243)",
        "title": "Customer attrition in data"
       }
      },
      "text/html": [
       "<div id=\"33075687-76a9-43e2-897b-a636dba19550\" style=\"height: 525px; width: 100%;\" class=\"plotly-graph-div\"></div><script type=\"text/javascript\">require([\"plotly\"], function(Plotly) { window.PLOTLYENV=window.PLOTLYENV || {};window.PLOTLYENV.BASE_URL=\"https://plot.ly\";Plotly.newPlot(\"33075687-76a9-43e2-897b-a636dba19550\", [{\"hole\": 0.5, \"hoverinfo\": \"label+value+text\", \"labels\": [\"No\", \"Yes\"], \"marker\": {\"colors\": [\"royalblue\", \"lime\"], \"line\": {\"color\": \"white\", \"width\": 1.3}}, \"rotation\": 90, \"values\": [5163, 1869], \"type\": \"pie\", \"uid\": \"20b60da4-d488-11e8-9ce3-9883892cad24\"}], {\"paper_bgcolor\": \"rgb(243,243,243)\", \"plot_bgcolor\": \"rgb(243,243,243)\", \"title\": \"Customer attrition in data\"}, {\"showLink\": true, \"linkText\": \"Export to plot.ly\"})});</script>"
      ],
      "text/vnd.plotly.v1+html": [
       "<div id=\"33075687-76a9-43e2-897b-a636dba19550\" style=\"height: 525px; width: 100%;\" class=\"plotly-graph-div\"></div><script type=\"text/javascript\">require([\"plotly\"], function(Plotly) { window.PLOTLYENV=window.PLOTLYENV || {};window.PLOTLYENV.BASE_URL=\"https://plot.ly\";Plotly.newPlot(\"33075687-76a9-43e2-897b-a636dba19550\", [{\"hole\": 0.5, \"hoverinfo\": \"label+value+text\", \"labels\": [\"No\", \"Yes\"], \"marker\": {\"colors\": [\"royalblue\", \"lime\"], \"line\": {\"color\": \"white\", \"width\": 1.3}}, \"rotation\": 90, \"values\": [5163, 1869], \"type\": \"pie\", \"uid\": \"20b60da4-d488-11e8-9ce3-9883892cad24\"}], {\"paper_bgcolor\": \"rgb(243,243,243)\", \"plot_bgcolor\": \"rgb(243,243,243)\", \"title\": \"Customer attrition in data\"}, {\"showLink\": true, \"linkText\": \"Export to plot.ly\"})});</script>"
      ]
     },
     "metadata": {},
     "output_type": "display_data"
    }
   ],
   "source": [
    "#labels\n",
    "lab = telcom[\"Churn\"].value_counts().keys().tolist()\n",
    "#values\n",
    "val = telcom[\"Churn\"].value_counts().values.tolist()\n",
    "\n",
    "trace = go.Pie(labels = lab ,\n",
    "               values = val ,\n",
    "               marker = dict(colors =  [ 'royalblue' ,'lime'],\n",
    "                             line = dict(color = \"white\",\n",
    "                                         width =  1.3)\n",
    "                            ),\n",
    "               rotation = 90,\n",
    "               hoverinfo = \"label+value+text\",\n",
    "               hole = .5\n",
    "              )\n",
    "layout = go.Layout(dict(title = \"Customer attrition in data\",\n",
    "                        plot_bgcolor  = \"rgb(243,243,243)\",\n",
    "                        paper_bgcolor = \"rgb(243,243,243)\",\n",
    "                       )\n",
    "                  )\n",
    "\n",
    "data = [trace]\n",
    "fig = go.Figure(data = data,layout = layout)\n",
    "py.iplot(fig)"
   ]
  },
  {
   "cell_type": "code",
   "execution_count": null,
   "metadata": {},
   "outputs": [],
   "source": []
  }
 ],
 "metadata": {
  "kernelspec": {
   "display_name": "Python 3",
   "language": "python",
   "name": "python3"
  },
  "language_info": {
   "codemirror_mode": {
    "name": "ipython",
    "version": 3
   },
   "file_extension": ".py",
   "mimetype": "text/x-python",
   "name": "python",
   "nbconvert_exporter": "python",
   "pygments_lexer": "ipython3",
   "version": "3.6.4"
  }
 },
 "nbformat": 4,
 "nbformat_minor": 2
}
